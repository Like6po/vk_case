{
 "cells": [
  {
   "cell_type": "code",
   "execution_count": 59,
   "id": "038b0b50",
   "metadata": {},
   "outputs": [],
   "source": [
    "import pandas as pd\n",
    "import numpy as np\n",
    "\n",
    "from sklearn.metrics import mean_squared_error"
   ]
  },
  {
   "attachments": {},
   "cell_type": "markdown",
   "id": "35621d21",
   "metadata": {},
   "source": [
    "# Загрузка данных"
   ]
  },
  {
   "attachments": {},
   "cell_type": "markdown",
   "id": "e3fe0e8e",
   "metadata": {},
   "source": [
    "В бейзлайне реализована простейшая модель на эго-графе.\n",
    "\n",
    "Для каждой пары вершин u и v эго-графа попытаемся найти всех общих \"друзей\" w. Силой связи между вершинами u и v будем считать средную силу связи между ними и общими друзьями.\n",
    "\n",
    "Поскольку обучение для такой модели не требуется, будем пользоваться только тестовой выборкой."
   ]
  },
  {
   "cell_type": "code",
   "execution_count": 60,
   "id": "daef4ca8",
   "metadata": {},
   "outputs": [
    {
     "name": "stdout",
     "output_type": "stream",
     "text": [
      "CPU times: total: 33.5 s\n",
      "Wall time: 45.4 s\n"
     ]
    }
   ],
   "source": [
    "%%time\n",
    "\n",
    "test = pd.read_csv(\"train.csv\")\n",
    "submission = pd.read_csv(\"submission.csv\")\n"
   ]
  },
  {
   "cell_type": "code",
   "execution_count": 61,
   "id": "71e2d6b4",
   "metadata": {},
   "outputs": [
    {
     "data": {
      "text/html": [
       "<div>\n",
       "<style scoped>\n",
       "    .dataframe tbody tr th:only-of-type {\n",
       "        vertical-align: middle;\n",
       "    }\n",
       "\n",
       "    .dataframe tbody tr th {\n",
       "        vertical-align: top;\n",
       "    }\n",
       "\n",
       "    .dataframe thead th {\n",
       "        text-align: right;\n",
       "    }\n",
       "</style>\n",
       "<table border=\"1\" class=\"dataframe\">\n",
       "  <thead>\n",
       "    <tr style=\"text-align: right;\">\n",
       "      <th></th>\n",
       "      <th>ego_id</th>\n",
       "      <th>u</th>\n",
       "      <th>v</th>\n",
       "      <th>x1</th>\n",
       "    </tr>\n",
       "  </thead>\n",
       "  <tbody>\n",
       "    <tr>\n",
       "      <th>0</th>\n",
       "      <td>8</td>\n",
       "      <td>0</td>\n",
       "      <td>93</td>\n",
       "      <td>0.000000</td>\n",
       "    </tr>\n",
       "    <tr>\n",
       "      <th>1</th>\n",
       "      <td>8</td>\n",
       "      <td>0</td>\n",
       "      <td>143</td>\n",
       "      <td>0.000000</td>\n",
       "    </tr>\n",
       "    <tr>\n",
       "      <th>2</th>\n",
       "      <td>8</td>\n",
       "      <td>0</td>\n",
       "      <td>151</td>\n",
       "      <td>1.606742</td>\n",
       "    </tr>\n",
       "    <tr>\n",
       "      <th>3</th>\n",
       "      <td>8</td>\n",
       "      <td>1</td>\n",
       "      <td>24</td>\n",
       "      <td>0.026496</td>\n",
       "    </tr>\n",
       "    <tr>\n",
       "      <th>4</th>\n",
       "      <td>8</td>\n",
       "      <td>5</td>\n",
       "      <td>4</td>\n",
       "      <td>0.159857</td>\n",
       "    </tr>\n",
       "  </tbody>\n",
       "</table>\n",
       "</div>"
      ],
      "text/plain": [
       "   ego_id  u    v        x1\n",
       "0       8  0   93  0.000000\n",
       "1       8  0  143  0.000000\n",
       "2       8  0  151  1.606742\n",
       "3       8  1   24  0.026496\n",
       "4       8  5    4  0.159857"
      ]
     },
     "execution_count": 61,
     "metadata": {},
     "output_type": "execute_result"
    }
   ],
   "source": [
    "submission.head()"
   ]
  },
  {
   "attachments": {},
   "cell_type": "markdown",
   "id": "f647f5d9",
   "metadata": {},
   "source": [
    "Проверочные данные - недоступны участникам, используются для подсчёта метрики:"
   ]
  },
  {
   "cell_type": "code",
   "execution_count": 29,
   "id": "3ce2c652",
   "metadata": {},
   "outputs": [],
   "source": [
    "control = pd.read_csv(\"control.csv\")"
   ]
  },
  {
   "attachments": {},
   "cell_type": "markdown",
   "id": "c979f99f",
   "metadata": {},
   "source": [
    "Таблицы control и submission отличаются только последним столбцом x1. В таблице control в этом столбце содержатся истинные значения связей x1."
   ]
  },
  {
   "cell_type": "code",
   "execution_count": 29,
   "id": "b3144199",
   "metadata": {},
   "outputs": [
    {
     "ename": "NameError",
     "evalue": "name 'control' is not defined",
     "output_type": "error",
     "traceback": [
      "\u001b[1;31m---------------------------------------------------------------------------\u001b[0m",
      "\u001b[1;31mNameError\u001b[0m                                 Traceback (most recent call last)",
      "Cell \u001b[1;32mIn[29], line 1\u001b[0m\n\u001b[1;32m----> 1\u001b[0m control[[\u001b[39m\"\u001b[39m\u001b[39mego_id\u001b[39m\u001b[39m\"\u001b[39m, \u001b[39m\"\u001b[39m\u001b[39mu\u001b[39m\u001b[39m\"\u001b[39m, \u001b[39m\"\u001b[39m\u001b[39mv\u001b[39m\u001b[39m\"\u001b[39m]]\u001b[39m.\u001b[39mequals(submission[[\u001b[39m\"\u001b[39m\u001b[39mego_id\u001b[39m\u001b[39m\"\u001b[39m, \u001b[39m\"\u001b[39m\u001b[39mu\u001b[39m\u001b[39m\"\u001b[39m, \u001b[39m\"\u001b[39m\u001b[39mv\u001b[39m\u001b[39m\"\u001b[39m]])\n",
      "\u001b[1;31mNameError\u001b[0m: name 'control' is not defined"
     ]
    }
   ],
   "source": [
    "control[[\"ego_id\", \"u\", \"v\"]].equals(submission[[\"ego_id\", \"u\", \"v\"]])"
   ]
  },
  {
   "attachments": {},
   "cell_type": "markdown",
   "id": "4506a1ca",
   "metadata": {},
   "source": [
    "Таблица submission отсортирована по возрастанию ego_id, u, v:"
   ]
  },
  {
   "cell_type": "code",
   "execution_count": 9,
   "id": "4ee95b50",
   "metadata": {},
   "outputs": [
    {
     "data": {
      "text/plain": [
       "True"
      ]
     },
     "execution_count": 9,
     "metadata": {},
     "output_type": "execute_result"
    }
   ],
   "source": [
    "submission.equals(submission.sort_values([\"ego_id\", \"u\", \"v\"]))"
   ]
  },
  {
   "attachments": {},
   "cell_type": "markdown",
   "id": "834268e1",
   "metadata": {},
   "source": [
    "# Модель"
   ]
  },
  {
   "cell_type": "code",
   "execution_count": 62,
   "id": "57fdb909",
   "metadata": {},
   "outputs": [
    {
     "data": {
      "text/html": [
       "<div>\n",
       "<style scoped>\n",
       "    .dataframe tbody tr th:only-of-type {\n",
       "        vertical-align: middle;\n",
       "    }\n",
       "\n",
       "    .dataframe tbody tr th {\n",
       "        vertical-align: top;\n",
       "    }\n",
       "\n",
       "    .dataframe thead th {\n",
       "        text-align: right;\n",
       "    }\n",
       "</style>\n",
       "<table border=\"1\" class=\"dataframe\">\n",
       "  <thead>\n",
       "    <tr style=\"text-align: right;\">\n",
       "      <th></th>\n",
       "      <th>ego_id</th>\n",
       "      <th>u</th>\n",
       "      <th>v</th>\n",
       "      <th>t</th>\n",
       "      <th>x1</th>\n",
       "      <th>x2</th>\n",
       "      <th>x3</th>\n",
       "    </tr>\n",
       "  </thead>\n",
       "  <tbody>\n",
       "    <tr>\n",
       "      <th>ego_id</th>\n",
       "      <td>1.000000</td>\n",
       "      <td>0.001828</td>\n",
       "      <td>0.001840</td>\n",
       "      <td>0.001420</td>\n",
       "      <td>0.000228</td>\n",
       "      <td>-0.001061</td>\n",
       "      <td>-0.000929</td>\n",
       "    </tr>\n",
       "    <tr>\n",
       "      <th>u</th>\n",
       "      <td>0.001828</td>\n",
       "      <td>1.000000</td>\n",
       "      <td>0.218330</td>\n",
       "      <td>-0.065169</td>\n",
       "      <td>0.011669</td>\n",
       "      <td>0.001498</td>\n",
       "      <td>-0.064033</td>\n",
       "    </tr>\n",
       "    <tr>\n",
       "      <th>v</th>\n",
       "      <td>0.001840</td>\n",
       "      <td>0.218330</td>\n",
       "      <td>1.000000</td>\n",
       "      <td>-0.092008</td>\n",
       "      <td>-0.019556</td>\n",
       "      <td>-0.022957</td>\n",
       "      <td>-0.022212</td>\n",
       "    </tr>\n",
       "    <tr>\n",
       "      <th>t</th>\n",
       "      <td>0.001420</td>\n",
       "      <td>-0.065169</td>\n",
       "      <td>-0.092008</td>\n",
       "      <td>1.000000</td>\n",
       "      <td>-0.190351</td>\n",
       "      <td>-0.073750</td>\n",
       "      <td>-0.025470</td>\n",
       "    </tr>\n",
       "    <tr>\n",
       "      <th>x1</th>\n",
       "      <td>0.000228</td>\n",
       "      <td>0.011669</td>\n",
       "      <td>-0.019556</td>\n",
       "      <td>-0.190351</td>\n",
       "      <td>1.000000</td>\n",
       "      <td>0.678870</td>\n",
       "      <td>0.089360</td>\n",
       "    </tr>\n",
       "    <tr>\n",
       "      <th>x2</th>\n",
       "      <td>-0.001061</td>\n",
       "      <td>0.001498</td>\n",
       "      <td>-0.022957</td>\n",
       "      <td>-0.073750</td>\n",
       "      <td>0.678870</td>\n",
       "      <td>1.000000</td>\n",
       "      <td>0.136608</td>\n",
       "    </tr>\n",
       "    <tr>\n",
       "      <th>x3</th>\n",
       "      <td>-0.000929</td>\n",
       "      <td>-0.064033</td>\n",
       "      <td>-0.022212</td>\n",
       "      <td>-0.025470</td>\n",
       "      <td>0.089360</td>\n",
       "      <td>0.136608</td>\n",
       "      <td>1.000000</td>\n",
       "    </tr>\n",
       "  </tbody>\n",
       "</table>\n",
       "</div>"
      ],
      "text/plain": [
       "          ego_id         u         v         t        x1        x2        x3\n",
       "ego_id  1.000000  0.001828  0.001840  0.001420  0.000228 -0.001061 -0.000929\n",
       "u       0.001828  1.000000  0.218330 -0.065169  0.011669  0.001498 -0.064033\n",
       "v       0.001840  0.218330  1.000000 -0.092008 -0.019556 -0.022957 -0.022212\n",
       "t       0.001420 -0.065169 -0.092008  1.000000 -0.190351 -0.073750 -0.025470\n",
       "x1      0.000228  0.011669 -0.019556 -0.190351  1.000000  0.678870  0.089360\n",
       "x2     -0.001061  0.001498 -0.022957 -0.073750  0.678870  1.000000  0.136608\n",
       "x3     -0.000929 -0.064033 -0.022212 -0.025470  0.089360  0.136608  1.000000"
      ]
     },
     "execution_count": 62,
     "metadata": {},
     "output_type": "execute_result"
    }
   ],
   "source": [
    "corrmatrix = test.corr()\n",
    "corrmatrix"
   ]
  },
  {
   "attachments": {},
   "cell_type": "markdown",
   "id": "f539298f",
   "metadata": {},
   "source": [
    "Константное предсказание:"
   ]
  },
  {
   "cell_type": "code",
   "execution_count": 63,
   "id": "b9a2ab62",
   "metadata": {},
   "outputs": [
    {
     "name": "stdout",
     "output_type": "stream",
     "text": [
      "CPU times: total: 312 ms\n",
      "Wall time: 442 ms\n"
     ]
    }
   ],
   "source": [
    "%%time\n",
    "\n",
    "submission_dummy = submission.copy()\n",
    "submission_dummy[\"x1\"] = np.nanmean(test[\"x1\"].values)"
   ]
  },
  {
   "cell_type": "code",
   "execution_count": 64,
   "id": "e9238b4b",
   "metadata": {},
   "outputs": [
    {
     "name": "stderr",
     "output_type": "stream",
     "text": [
      " 10%|▉         | 2057/20586 [04:37<41:41,  7.41it/s]  \n"
     ]
    },
    {
     "ename": "KeyboardInterrupt",
     "evalue": "",
     "output_type": "error",
     "traceback": [
      "\u001b[1;31m---------------------------------------------------------------------------\u001b[0m",
      "\u001b[1;31mKeyboardInterrupt\u001b[0m                         Traceback (most recent call last)",
      "File \u001b[1;32m<timed exec>:12\u001b[0m\n",
      "File \u001b[1;32md:\\Gamkere\\Code\\python-project\\hack\\env\\lib\\site-packages\\pandas\\core\\indexing.py:1097\u001b[0m, in \u001b[0;36m_LocationIndexer.__getitem__\u001b[1;34m(self, key)\u001b[0m\n\u001b[0;32m   1095\u001b[0m     \u001b[39mif\u001b[39;00m \u001b[39mself\u001b[39m\u001b[39m.\u001b[39m_is_scalar_access(key):\n\u001b[0;32m   1096\u001b[0m         \u001b[39mreturn\u001b[39;00m \u001b[39mself\u001b[39m\u001b[39m.\u001b[39mobj\u001b[39m.\u001b[39m_get_value(\u001b[39m*\u001b[39mkey, takeable\u001b[39m=\u001b[39m\u001b[39mself\u001b[39m\u001b[39m.\u001b[39m_takeable)\n\u001b[1;32m-> 1097\u001b[0m     \u001b[39mreturn\u001b[39;00m \u001b[39mself\u001b[39;49m\u001b[39m.\u001b[39;49m_getitem_tuple(key)\n\u001b[0;32m   1098\u001b[0m \u001b[39melse\u001b[39;00m:\n\u001b[0;32m   1099\u001b[0m     \u001b[39m# we by definition only have the 0th axis\u001b[39;00m\n\u001b[0;32m   1100\u001b[0m     axis \u001b[39m=\u001b[39m \u001b[39mself\u001b[39m\u001b[39m.\u001b[39maxis \u001b[39mor\u001b[39;00m \u001b[39m0\u001b[39m\n",
      "File \u001b[1;32md:\\Gamkere\\Code\\python-project\\hack\\env\\lib\\site-packages\\pandas\\core\\indexing.py:1289\u001b[0m, in \u001b[0;36m_LocIndexer._getitem_tuple\u001b[1;34m(self, tup)\u001b[0m\n\u001b[0;32m   1286\u001b[0m \u001b[39mif\u001b[39;00m \u001b[39mself\u001b[39m\u001b[39m.\u001b[39m_multi_take_opportunity(tup):\n\u001b[0;32m   1287\u001b[0m     \u001b[39mreturn\u001b[39;00m \u001b[39mself\u001b[39m\u001b[39m.\u001b[39m_multi_take(tup)\n\u001b[1;32m-> 1289\u001b[0m \u001b[39mreturn\u001b[39;00m \u001b[39mself\u001b[39;49m\u001b[39m.\u001b[39;49m_getitem_tuple_same_dim(tup)\n",
      "File \u001b[1;32md:\\Gamkere\\Code\\python-project\\hack\\env\\lib\\site-packages\\pandas\\core\\indexing.py:955\u001b[0m, in \u001b[0;36m_LocationIndexer._getitem_tuple_same_dim\u001b[1;34m(self, tup)\u001b[0m\n\u001b[0;32m    952\u001b[0m \u001b[39mif\u001b[39;00m com\u001b[39m.\u001b[39mis_null_slice(key):\n\u001b[0;32m    953\u001b[0m     \u001b[39mcontinue\u001b[39;00m\n\u001b[1;32m--> 955\u001b[0m retval \u001b[39m=\u001b[39m \u001b[39mgetattr\u001b[39;49m(retval, \u001b[39mself\u001b[39;49m\u001b[39m.\u001b[39;49mname)\u001b[39m.\u001b[39;49m_getitem_axis(key, axis\u001b[39m=\u001b[39;49mi)\n\u001b[0;32m    956\u001b[0m \u001b[39m# We should never have retval.ndim < self.ndim, as that should\u001b[39;00m\n\u001b[0;32m    957\u001b[0m \u001b[39m#  be handled by the _getitem_lowerdim call above.\u001b[39;00m\n\u001b[0;32m    958\u001b[0m \u001b[39massert\u001b[39;00m retval\u001b[39m.\u001b[39mndim \u001b[39m==\u001b[39m \u001b[39mself\u001b[39m\u001b[39m.\u001b[39mndim\n",
      "File \u001b[1;32md:\\Gamkere\\Code\\python-project\\hack\\env\\lib\\site-packages\\pandas\\core\\indexing.py:1332\u001b[0m, in \u001b[0;36m_LocIndexer._getitem_axis\u001b[1;34m(self, key, axis)\u001b[0m\n\u001b[0;32m   1329\u001b[0m     \u001b[39mif\u001b[39;00m \u001b[39mhasattr\u001b[39m(key, \u001b[39m\"\u001b[39m\u001b[39mndim\u001b[39m\u001b[39m\"\u001b[39m) \u001b[39mand\u001b[39;00m key\u001b[39m.\u001b[39mndim \u001b[39m>\u001b[39m \u001b[39m1\u001b[39m:\n\u001b[0;32m   1330\u001b[0m         \u001b[39mraise\u001b[39;00m \u001b[39mValueError\u001b[39;00m(\u001b[39m\"\u001b[39m\u001b[39mCannot index with multidimensional key\u001b[39m\u001b[39m\"\u001b[39m)\n\u001b[1;32m-> 1332\u001b[0m     \u001b[39mreturn\u001b[39;00m \u001b[39mself\u001b[39;49m\u001b[39m.\u001b[39;49m_getitem_iterable(key, axis\u001b[39m=\u001b[39;49maxis)\n\u001b[0;32m   1334\u001b[0m \u001b[39m# nested tuple slicing\u001b[39;00m\n\u001b[0;32m   1335\u001b[0m \u001b[39mif\u001b[39;00m is_nested_tuple(key, labels):\n",
      "File \u001b[1;32md:\\Gamkere\\Code\\python-project\\hack\\env\\lib\\site-packages\\pandas\\core\\indexing.py:1273\u001b[0m, in \u001b[0;36m_LocIndexer._getitem_iterable\u001b[1;34m(self, key, axis)\u001b[0m\n\u001b[0;32m   1271\u001b[0m \u001b[39m# A collection of keys\u001b[39;00m\n\u001b[0;32m   1272\u001b[0m keyarr, indexer \u001b[39m=\u001b[39m \u001b[39mself\u001b[39m\u001b[39m.\u001b[39m_get_listlike_indexer(key, axis)\n\u001b[1;32m-> 1273\u001b[0m \u001b[39mreturn\u001b[39;00m \u001b[39mself\u001b[39;49m\u001b[39m.\u001b[39;49mobj\u001b[39m.\u001b[39;49m_reindex_with_indexers(\n\u001b[0;32m   1274\u001b[0m     {axis: [keyarr, indexer]}, copy\u001b[39m=\u001b[39;49m\u001b[39mTrue\u001b[39;49;00m, allow_dups\u001b[39m=\u001b[39;49m\u001b[39mTrue\u001b[39;49;00m\n\u001b[0;32m   1275\u001b[0m )\n",
      "File \u001b[1;32md:\\Gamkere\\Code\\python-project\\hack\\env\\lib\\site-packages\\pandas\\core\\generic.py:5431\u001b[0m, in \u001b[0;36mNDFrame._reindex_with_indexers\u001b[1;34m(self, reindexers, fill_value, copy, allow_dups)\u001b[0m\n\u001b[0;32m   5428\u001b[0m     indexer \u001b[39m=\u001b[39m ensure_platform_int(indexer)\n\u001b[0;32m   5430\u001b[0m \u001b[39m# TODO: speed up on homogeneous DataFrame objects (see _reindex_multi)\u001b[39;00m\n\u001b[1;32m-> 5431\u001b[0m new_data \u001b[39m=\u001b[39m new_data\u001b[39m.\u001b[39;49mreindex_indexer(\n\u001b[0;32m   5432\u001b[0m     index,\n\u001b[0;32m   5433\u001b[0m     indexer,\n\u001b[0;32m   5434\u001b[0m     axis\u001b[39m=\u001b[39;49mbaxis,\n\u001b[0;32m   5435\u001b[0m     fill_value\u001b[39m=\u001b[39;49mfill_value,\n\u001b[0;32m   5436\u001b[0m     allow_dups\u001b[39m=\u001b[39;49mallow_dups,\n\u001b[0;32m   5437\u001b[0m     copy\u001b[39m=\u001b[39;49mcopy,\n\u001b[0;32m   5438\u001b[0m )\n\u001b[0;32m   5439\u001b[0m \u001b[39m# If we've made a copy once, no need to make another one\u001b[39;00m\n\u001b[0;32m   5440\u001b[0m copy \u001b[39m=\u001b[39m \u001b[39mFalse\u001b[39;00m\n",
      "File \u001b[1;32md:\\Gamkere\\Code\\python-project\\hack\\env\\lib\\site-packages\\pandas\\core\\internals\\managers.py:740\u001b[0m, in \u001b[0;36mBaseBlockManager.reindex_indexer\u001b[1;34m(self, new_axis, indexer, axis, fill_value, allow_dups, copy, only_slice, use_na_proxy)\u001b[0m\n\u001b[0;32m    737\u001b[0m     \u001b[39mraise\u001b[39;00m \u001b[39mIndexError\u001b[39;00m(\u001b[39m\"\u001b[39m\u001b[39mRequested axis not found in manager\u001b[39m\u001b[39m\"\u001b[39m)\n\u001b[0;32m    739\u001b[0m \u001b[39mif\u001b[39;00m axis \u001b[39m==\u001b[39m \u001b[39m0\u001b[39m:\n\u001b[1;32m--> 740\u001b[0m     new_blocks \u001b[39m=\u001b[39m \u001b[39mself\u001b[39;49m\u001b[39m.\u001b[39;49m_slice_take_blocks_ax0(\n\u001b[0;32m    741\u001b[0m         indexer,\n\u001b[0;32m    742\u001b[0m         fill_value\u001b[39m=\u001b[39;49mfill_value,\n\u001b[0;32m    743\u001b[0m         only_slice\u001b[39m=\u001b[39;49monly_slice,\n\u001b[0;32m    744\u001b[0m         use_na_proxy\u001b[39m=\u001b[39;49muse_na_proxy,\n\u001b[0;32m    745\u001b[0m     )\n\u001b[0;32m    746\u001b[0m \u001b[39melse\u001b[39;00m:\n\u001b[0;32m    747\u001b[0m     new_blocks \u001b[39m=\u001b[39m [\n\u001b[0;32m    748\u001b[0m         blk\u001b[39m.\u001b[39mtake_nd(\n\u001b[0;32m    749\u001b[0m             indexer,\n\u001b[1;32m   (...)\u001b[0m\n\u001b[0;32m    755\u001b[0m         \u001b[39mfor\u001b[39;00m blk \u001b[39min\u001b[39;00m \u001b[39mself\u001b[39m\u001b[39m.\u001b[39mblocks\n\u001b[0;32m    756\u001b[0m     ]\n",
      "File \u001b[1;32md:\\Gamkere\\Code\\python-project\\hack\\env\\lib\\site-packages\\pandas\\core\\internals\\managers.py:843\u001b[0m, in \u001b[0;36mBaseBlockManager._slice_take_blocks_ax0\u001b[1;34m(self, slice_or_indexer, fill_value, only_slice, use_na_proxy)\u001b[0m\n\u001b[0;32m    839\u001b[0m \u001b[39melse\u001b[39;00m:\n\u001b[0;32m    840\u001b[0m     blknos \u001b[39m=\u001b[39m algos\u001b[39m.\u001b[39mtake_nd(\n\u001b[0;32m    841\u001b[0m         \u001b[39mself\u001b[39m\u001b[39m.\u001b[39mblknos, slobj, fill_value\u001b[39m=\u001b[39m\u001b[39m-\u001b[39m\u001b[39m1\u001b[39m, allow_fill\u001b[39m=\u001b[39mallow_fill\n\u001b[0;32m    842\u001b[0m     )\n\u001b[1;32m--> 843\u001b[0m     blklocs \u001b[39m=\u001b[39m algos\u001b[39m.\u001b[39;49mtake_nd(\n\u001b[0;32m    844\u001b[0m         \u001b[39mself\u001b[39;49m\u001b[39m.\u001b[39;49mblklocs, slobj, fill_value\u001b[39m=\u001b[39;49m\u001b[39m-\u001b[39;49m\u001b[39m1\u001b[39;49m, allow_fill\u001b[39m=\u001b[39;49mallow_fill\n\u001b[0;32m    845\u001b[0m     )\n\u001b[0;32m    847\u001b[0m \u001b[39m# When filling blknos, make sure blknos is updated before appending to\u001b[39;00m\n\u001b[0;32m    848\u001b[0m \u001b[39m# blocks list, that way new blkno is exactly len(blocks).\u001b[39;00m\n\u001b[0;32m    849\u001b[0m blocks \u001b[39m=\u001b[39m []\n",
      "File \u001b[1;32md:\\Gamkere\\Code\\python-project\\hack\\env\\lib\\site-packages\\pandas\\core\\array_algos\\take.py:117\u001b[0m, in \u001b[0;36mtake_nd\u001b[1;34m(arr, indexer, axis, fill_value, allow_fill)\u001b[0m\n\u001b[0;32m    114\u001b[0m     \u001b[39mreturn\u001b[39;00m arr\u001b[39m.\u001b[39mtake(indexer, fill_value\u001b[39m=\u001b[39mfill_value, allow_fill\u001b[39m=\u001b[39mallow_fill)\n\u001b[0;32m    116\u001b[0m arr \u001b[39m=\u001b[39m np\u001b[39m.\u001b[39masarray(arr)\n\u001b[1;32m--> 117\u001b[0m \u001b[39mreturn\u001b[39;00m _take_nd_ndarray(arr, indexer, axis, fill_value, allow_fill)\n",
      "File \u001b[1;32md:\\Gamkere\\Code\\python-project\\hack\\env\\lib\\site-packages\\pandas\\core\\array_algos\\take.py:162\u001b[0m, in \u001b[0;36m_take_nd_ndarray\u001b[1;34m(arr, indexer, axis, fill_value, allow_fill)\u001b[0m\n\u001b[0;32m    157\u001b[0m     out \u001b[39m=\u001b[39m np\u001b[39m.\u001b[39mempty(out_shape, dtype\u001b[39m=\u001b[39mdtype)\n\u001b[0;32m    159\u001b[0m func \u001b[39m=\u001b[39m _get_take_nd_function(\n\u001b[0;32m    160\u001b[0m     arr\u001b[39m.\u001b[39mndim, arr\u001b[39m.\u001b[39mdtype, out\u001b[39m.\u001b[39mdtype, axis\u001b[39m=\u001b[39maxis, mask_info\u001b[39m=\u001b[39mmask_info\n\u001b[0;32m    161\u001b[0m )\n\u001b[1;32m--> 162\u001b[0m func(arr, indexer, out, fill_value)\n\u001b[0;32m    164\u001b[0m \u001b[39mif\u001b[39;00m flip_order:\n\u001b[0;32m    165\u001b[0m     out \u001b[39m=\u001b[39m out\u001b[39m.\u001b[39mT\n",
      "\u001b[1;31mKeyboardInterrupt\u001b[0m: "
     ]
    }
   ],
   "source": [
    "%%time\n",
    "\n",
    "from tqdm import tqdm\n",
    "\n",
    "\n",
    "ego_id_list = submission[\"ego_id\"].drop_duplicates().values\n",
    "for ego_id in tqdm(ego_id_list):\n",
    "    submission_ego_net = submission[submission[\"ego_id\"] == ego_id]\n",
    "    test_ego_net = test[test[\"ego_id\"] == ego_id]\n",
    "    friendship = np.zeros_like(submission_ego_net[\"x1\"].values)\n",
    "    for i, (u, v) in enumerate(zip(submission_ego_net[\"u\"], submission_ego_net[\"v\"])):\n",
    "        \n",
    "        u_x1 = test_ego_net.loc[test_ego_net[\"u\"] == u, [\"v\", \"x2\"]].dropna()\n",
    "        v_x1 = test_ego_net.loc[test_ego_net[\"u\"] == v, [\"v\", \"x2\"]].dropna()\n",
    "        \n",
    "        common_friends = u_x1.merge(v_x1, on=\"v\")\n",
    "        \n",
    "        if common_friends.shape[0] > 0:\n",
    "            friendship[i] = np.mean(common_friends.drop(\"v\", axis=1).values)\n",
    "            # friendship[i] = np.sqrt(np.mean(np.square(common_friends.drop(\"v\", axis=1).values)))\n",
    "    submission.loc[submission[\"ego_id\"] == ego_id, \"x1\"] = friendship"
   ]
  },
  {
   "cell_type": "code",
   "execution_count": 23,
   "id": "8b394f8a",
   "metadata": {},
   "outputs": [],
   "source": [
    "submission.to_csv('result.csv')"
   ]
  },
  {
   "attachments": {},
   "cell_type": "markdown",
   "id": "6e9ceb0e",
   "metadata": {},
   "source": [
    "# Посчёт метрик"
   ]
  },
  {
   "cell_type": "code",
   "execution_count": 51,
   "id": "aa8c927f",
   "metadata": {},
   "outputs": [],
   "source": [
    "def RMSE(y_true, y_pred):\n",
    "    return mean_squared_error(y_true, y_pred, squared=False)"
   ]
  },
  {
   "cell_type": "code",
   "execution_count": 54,
   "id": "dade027d",
   "metadata": {},
   "outputs": [
    {
     "name": "stdout",
     "output_type": "stream",
     "text": [
      "Dummy model RMSE: 1.3604058861047796\n"
     ]
    }
   ],
   "source": [
    "print(\"Dummy model RMSE: {}\".format(RMSE(control[\"x1\"], submission_dummy[\"x1\"])))"
   ]
  },
  {
   "cell_type": "code",
   "execution_count": 63,
   "id": "32f3c1fc",
   "metadata": {},
   "outputs": [
    {
     "name": "stdout",
     "output_type": "stream",
     "text": [
      "Baseline model RMSE: 1.353040933001075\n"
     ]
    }
   ],
   "source": [
    "print(\"Baseline model RMSE: {}\".format(RMSE(control[\"x1\"], submission[\"x1\"])))"
   ]
  }
 ],
 "metadata": {
  "kernelspec": {
   "display_name": ".env",
   "language": "python",
   "name": "python3"
  },
  "language_info": {
   "codemirror_mode": {
    "name": "ipython",
    "version": 3
   },
   "file_extension": ".py",
   "mimetype": "text/x-python",
   "name": "python",
   "nbconvert_exporter": "python",
   "pygments_lexer": "ipython3",
   "version": "3.10.11"
  }
 },
 "nbformat": 4,
 "nbformat_minor": 5
}
