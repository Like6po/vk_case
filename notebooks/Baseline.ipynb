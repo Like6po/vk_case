{
 "cells": [
  {
   "cell_type": "code",
   "execution_count": 1,
   "id": "038b0b50",
   "metadata": {},
   "outputs": [],
   "source": [
    "import pandas as pd\n",
    "import numpy as np\n",
    "\n",
    "from sklearn.metrics import mean_squared_error"
   ]
  },
  {
   "attachments": {},
   "cell_type": "markdown",
   "id": "35621d21",
   "metadata": {},
   "source": [
    "# Загрузка данных"
   ]
  },
  {
   "attachments": {},
   "cell_type": "markdown",
   "id": "e3fe0e8e",
   "metadata": {},
   "source": [
    "В бейзлайне реализована простейшая модель на эго-графе.\n",
    "\n",
    "Для каждой пары вершин u и v эго-графа попытаемся найти всех общих \"друзей\" w. Силой связи между вершинами u и v будем считать средную силу связи между ними и общими друзьями.\n",
    "\n",
    "Поскольку обучение для такой модели не требуется, будем пользоваться только тестовой выборкой."
   ]
  },
  {
   "cell_type": "code",
   "execution_count": 2,
   "id": "daef4ca8",
   "metadata": {},
   "outputs": [
    {
     "name": "stdout",
     "output_type": "stream",
     "text": [
      "CPU times: total: 19.2 s\n",
      "Wall time: 27.2 s\n"
     ]
    }
   ],
   "source": [
    "%%time\n",
    "\n",
    "test = pd.read_csv(\"test.csv\")\n",
    "submission = pd.read_csv(\"submission.csv\")"
   ]
  },
  {
   "cell_type": "code",
   "execution_count": 3,
   "id": "71e2d6b4",
   "metadata": {},
   "outputs": [
    {
     "data": {
      "text/html": [
       "<div>\n",
       "<style scoped>\n",
       "    .dataframe tbody tr th:only-of-type {\n",
       "        vertical-align: middle;\n",
       "    }\n",
       "\n",
       "    .dataframe tbody tr th {\n",
       "        vertical-align: top;\n",
       "    }\n",
       "\n",
       "    .dataframe thead th {\n",
       "        text-align: right;\n",
       "    }\n",
       "</style>\n",
       "<table border=\"1\" class=\"dataframe\">\n",
       "  <thead>\n",
       "    <tr style=\"text-align: right;\">\n",
       "      <th></th>\n",
       "      <th>ego_id</th>\n",
       "      <th>u</th>\n",
       "      <th>v</th>\n",
       "      <th>x1</th>\n",
       "    </tr>\n",
       "  </thead>\n",
       "  <tbody>\n",
       "    <tr>\n",
       "      <th>0</th>\n",
       "      <td>8</td>\n",
       "      <td>0</td>\n",
       "      <td>93</td>\n",
       "      <td>0.000000</td>\n",
       "    </tr>\n",
       "    <tr>\n",
       "      <th>1</th>\n",
       "      <td>8</td>\n",
       "      <td>0</td>\n",
       "      <td>143</td>\n",
       "      <td>0.000000</td>\n",
       "    </tr>\n",
       "    <tr>\n",
       "      <th>2</th>\n",
       "      <td>8</td>\n",
       "      <td>0</td>\n",
       "      <td>151</td>\n",
       "      <td>1.606742</td>\n",
       "    </tr>\n",
       "    <tr>\n",
       "      <th>3</th>\n",
       "      <td>8</td>\n",
       "      <td>1</td>\n",
       "      <td>24</td>\n",
       "      <td>0.026496</td>\n",
       "    </tr>\n",
       "    <tr>\n",
       "      <th>4</th>\n",
       "      <td>8</td>\n",
       "      <td>5</td>\n",
       "      <td>4</td>\n",
       "      <td>0.159857</td>\n",
       "    </tr>\n",
       "  </tbody>\n",
       "</table>\n",
       "</div>"
      ],
      "text/plain": [
       "   ego_id  u    v        x1\n",
       "0       8  0   93  0.000000\n",
       "1       8  0  143  0.000000\n",
       "2       8  0  151  1.606742\n",
       "3       8  1   24  0.026496\n",
       "4       8  5    4  0.159857"
      ]
     },
     "execution_count": 3,
     "metadata": {},
     "output_type": "execute_result"
    }
   ],
   "source": [
    "submission.head()"
   ]
  },
  {
   "attachments": {},
   "cell_type": "markdown",
   "id": "f647f5d9",
   "metadata": {},
   "source": [
    "Проверочные данные - недоступны участникам, используются для подсчёта метрики:"
   ]
  },
  {
   "cell_type": "code",
   "execution_count": 29,
   "id": "3ce2c652",
   "metadata": {},
   "outputs": [],
   "source": [
    "control = pd.read_csv(\"control.csv\")"
   ]
  },
  {
   "attachments": {},
   "cell_type": "markdown",
   "id": "c979f99f",
   "metadata": {},
   "source": [
    "Таблицы control и submission отличаются только последним столбцом x1. В таблице control в этом столбце содержатся истинные значения связей x1."
   ]
  },
  {
   "cell_type": "code",
   "execution_count": 32,
   "id": "b3144199",
   "metadata": {},
   "outputs": [
    {
     "data": {
      "text/plain": [
       "True"
      ]
     },
     "execution_count": 32,
     "metadata": {},
     "output_type": "execute_result"
    }
   ],
   "source": [
    "control[[\"ego_id\", \"u\", \"v\"]].equals(submission[[\"ego_id\", \"u\", \"v\"]])"
   ]
  },
  {
   "attachments": {},
   "cell_type": "markdown",
   "id": "4506a1ca",
   "metadata": {},
   "source": [
    "Таблица submission отсортирована по возрастанию ego_id, u, v:"
   ]
  },
  {
   "cell_type": "code",
   "execution_count": 4,
   "id": "4ee95b50",
   "metadata": {},
   "outputs": [
    {
     "data": {
      "text/plain": [
       "True"
      ]
     },
     "execution_count": 4,
     "metadata": {},
     "output_type": "execute_result"
    }
   ],
   "source": [
    "submission.equals(submission.sort_values([\"ego_id\", \"u\", \"v\"]))"
   ]
  },
  {
   "cell_type": "code",
   "execution_count": 6,
   "id": "5923563a",
   "metadata": {},
   "outputs": [
    {
     "data": {
      "text/plain": [
       "False"
      ]
     },
     "execution_count": 6,
     "metadata": {},
     "output_type": "execute_result"
    }
   ],
   "source": [
    "test.equals(test.sort_values([\"ego_id\", \"u\", \"v\"]))"
   ]
  },
  {
   "attachments": {},
   "cell_type": "markdown",
   "id": "834268e1",
   "metadata": {},
   "source": [
    "# Модель"
   ]
  },
  {
   "cell_type": "code",
   "execution_count": 7,
   "id": "e0122120",
   "metadata": {},
   "outputs": [
    {
     "data": {
      "text/plain": [
       "ego_id\n",
       "901943132599     349\n",
       "721554506143     328\n",
       "1400159338751    298\n",
       "1039382085802    270\n",
       "575525618423     262\n",
       "                ... \n",
       "1142461301166      1\n",
       "515396076193       1\n",
       "515396076373       1\n",
       "51539608193        1\n",
       "1245540516719      1\n",
       "Name: count, Length: 20586, dtype: int64"
      ]
     },
     "execution_count": 7,
     "metadata": {},
     "output_type": "execute_result"
    }
   ],
   "source": [
    "submission[\"ego_id\"].value_counts()"
   ]
  },
  {
   "cell_type": "code",
   "execution_count": 8,
   "metadata": {},
   "outputs": [
    {
     "data": {
      "text/plain": [
       "ego_id\n",
       "901943132599     17432\n",
       "721554506143     16412\n",
       "1400159338751    14881\n",
       "1039382085802    13487\n",
       "575525618423     13081\n",
       "                 ...  \n",
       "936302871286        22\n",
       "1443109012321       20\n",
       "1529008358147       20\n",
       "283467841974        19\n",
       "1503238554422       12\n",
       "Name: count, Length: 20596, dtype: int64"
      ]
     },
     "execution_count": 8,
     "metadata": {},
     "output_type": "execute_result"
    }
   ],
   "source": [
    "test[\"ego_id\"].value_counts()"
   ]
  },
  {
   "attachments": {},
   "cell_type": "markdown",
   "id": "f539298f",
   "metadata": {},
   "source": [
    "Константное предсказание:"
   ]
  },
  {
   "cell_type": "code",
   "execution_count": 9,
   "id": "b9a2ab62",
   "metadata": {},
   "outputs": [
    {
     "name": "stdout",
     "output_type": "stream",
     "text": [
      "CPU times: total: 359 ms\n",
      "Wall time: 992 ms\n"
     ]
    }
   ],
   "source": [
    "%%time\n",
    "\n",
    "submission_dummy = submission.copy()\n",
    "submission_dummy[\"x1\"] = np.nanmean(test[\"x1\"].values)"
   ]
  },
  {
   "cell_type": "code",
   "execution_count": 9,
   "id": "e9238b4b",
   "metadata": {},
   "outputs": [
    {
     "name": "stderr",
     "output_type": "stream",
     "text": [
      "  0%|          | 13/20586 [00:02<1:14:52,  4.58it/s]\n"
     ]
    },
    {
     "ename": "KeyboardInterrupt",
     "evalue": "",
     "output_type": "error",
     "traceback": [
      "\u001b[1;31m---------------------------------------------------------------------------\u001b[0m",
      "\u001b[1;31mKeyboardInterrupt\u001b[0m                         Traceback (most recent call last)",
      "File \u001b[1;32m<timed exec>:12\u001b[0m\n",
      "File \u001b[1;32md:\\danil\\Documents\\python-project\\hackaton_vkcase\\.env\\Lib\\site-packages\\pandas\\core\\indexing.py:1097\u001b[0m, in \u001b[0;36m_LocationIndexer.__getitem__\u001b[1;34m(self, key)\u001b[0m\n\u001b[0;32m   1095\u001b[0m     \u001b[39mif\u001b[39;00m \u001b[39mself\u001b[39m\u001b[39m.\u001b[39m_is_scalar_access(key):\n\u001b[0;32m   1096\u001b[0m         \u001b[39mreturn\u001b[39;00m \u001b[39mself\u001b[39m\u001b[39m.\u001b[39mobj\u001b[39m.\u001b[39m_get_value(\u001b[39m*\u001b[39mkey, takeable\u001b[39m=\u001b[39m\u001b[39mself\u001b[39m\u001b[39m.\u001b[39m_takeable)\n\u001b[1;32m-> 1097\u001b[0m     \u001b[39mreturn\u001b[39;00m \u001b[39mself\u001b[39;49m\u001b[39m.\u001b[39;49m_getitem_tuple(key)\n\u001b[0;32m   1098\u001b[0m \u001b[39melse\u001b[39;00m:\n\u001b[0;32m   1099\u001b[0m     \u001b[39m# we by definition only have the 0th axis\u001b[39;00m\n\u001b[0;32m   1100\u001b[0m     axis \u001b[39m=\u001b[39m \u001b[39mself\u001b[39m\u001b[39m.\u001b[39maxis \u001b[39mor\u001b[39;00m \u001b[39m0\u001b[39m\n",
      "File \u001b[1;32md:\\danil\\Documents\\python-project\\hackaton_vkcase\\.env\\Lib\\site-packages\\pandas\\core\\indexing.py:1289\u001b[0m, in \u001b[0;36m_LocIndexer._getitem_tuple\u001b[1;34m(self, tup)\u001b[0m\n\u001b[0;32m   1286\u001b[0m \u001b[39mif\u001b[39;00m \u001b[39mself\u001b[39m\u001b[39m.\u001b[39m_multi_take_opportunity(tup):\n\u001b[0;32m   1287\u001b[0m     \u001b[39mreturn\u001b[39;00m \u001b[39mself\u001b[39m\u001b[39m.\u001b[39m_multi_take(tup)\n\u001b[1;32m-> 1289\u001b[0m \u001b[39mreturn\u001b[39;00m \u001b[39mself\u001b[39;49m\u001b[39m.\u001b[39;49m_getitem_tuple_same_dim(tup)\n",
      "File \u001b[1;32md:\\danil\\Documents\\python-project\\hackaton_vkcase\\.env\\Lib\\site-packages\\pandas\\core\\indexing.py:955\u001b[0m, in \u001b[0;36m_LocationIndexer._getitem_tuple_same_dim\u001b[1;34m(self, tup)\u001b[0m\n\u001b[0;32m    952\u001b[0m \u001b[39mif\u001b[39;00m com\u001b[39m.\u001b[39mis_null_slice(key):\n\u001b[0;32m    953\u001b[0m     \u001b[39mcontinue\u001b[39;00m\n\u001b[1;32m--> 955\u001b[0m retval \u001b[39m=\u001b[39m \u001b[39mgetattr\u001b[39;49m(retval, \u001b[39mself\u001b[39;49m\u001b[39m.\u001b[39;49mname)\u001b[39m.\u001b[39;49m_getitem_axis(key, axis\u001b[39m=\u001b[39;49mi)\n\u001b[0;32m    956\u001b[0m \u001b[39m# We should never have retval.ndim < self.ndim, as that should\u001b[39;00m\n\u001b[0;32m    957\u001b[0m \u001b[39m#  be handled by the _getitem_lowerdim call above.\u001b[39;00m\n\u001b[0;32m    958\u001b[0m \u001b[39massert\u001b[39;00m retval\u001b[39m.\u001b[39mndim \u001b[39m==\u001b[39m \u001b[39mself\u001b[39m\u001b[39m.\u001b[39mndim\n",
      "File \u001b[1;32md:\\danil\\Documents\\python-project\\hackaton_vkcase\\.env\\Lib\\site-packages\\pandas\\core\\indexing.py:1325\u001b[0m, in \u001b[0;36m_LocIndexer._getitem_axis\u001b[1;34m(self, key, axis)\u001b[0m\n\u001b[0;32m   1323\u001b[0m     \u001b[39mreturn\u001b[39;00m \u001b[39mself\u001b[39m\u001b[39m.\u001b[39m_get_slice_axis(key, axis\u001b[39m=\u001b[39maxis)\n\u001b[0;32m   1324\u001b[0m \u001b[39melif\u001b[39;00m com\u001b[39m.\u001b[39mis_bool_indexer(key):\n\u001b[1;32m-> 1325\u001b[0m     \u001b[39mreturn\u001b[39;00m \u001b[39mself\u001b[39;49m\u001b[39m.\u001b[39;49m_getbool_axis(key, axis\u001b[39m=\u001b[39;49maxis)\n\u001b[0;32m   1326\u001b[0m \u001b[39melif\u001b[39;00m is_list_like_indexer(key):\n\u001b[0;32m   1327\u001b[0m     \u001b[39m# an iterable multi-selection\u001b[39;00m\n\u001b[0;32m   1328\u001b[0m     \u001b[39mif\u001b[39;00m \u001b[39mnot\u001b[39;00m (\u001b[39misinstance\u001b[39m(key, \u001b[39mtuple\u001b[39m) \u001b[39mand\u001b[39;00m \u001b[39misinstance\u001b[39m(labels, MultiIndex)):\n",
      "File \u001b[1;32md:\\danil\\Documents\\python-project\\hackaton_vkcase\\.env\\Lib\\site-packages\\pandas\\core\\indexing.py:1122\u001b[0m, in \u001b[0;36m_LocationIndexer._getbool_axis\u001b[1;34m(self, key, axis)\u001b[0m\n\u001b[0;32m   1120\u001b[0m labels \u001b[39m=\u001b[39m \u001b[39mself\u001b[39m\u001b[39m.\u001b[39mobj\u001b[39m.\u001b[39m_get_axis(axis)\n\u001b[0;32m   1121\u001b[0m key \u001b[39m=\u001b[39m check_bool_indexer(labels, key)\n\u001b[1;32m-> 1122\u001b[0m inds \u001b[39m=\u001b[39m key\u001b[39m.\u001b[39;49mnonzero()[\u001b[39m0\u001b[39m]\n\u001b[0;32m   1123\u001b[0m \u001b[39mreturn\u001b[39;00m \u001b[39mself\u001b[39m\u001b[39m.\u001b[39mobj\u001b[39m.\u001b[39m_take_with_is_copy(inds, axis\u001b[39m=\u001b[39maxis)\n",
      "\u001b[1;31mKeyboardInterrupt\u001b[0m: "
     ]
    }
   ],
   "source": [
    "%%time\n",
    "\n",
    "from tqdm import tqdm\n",
    "\n",
    "\n",
    "ego_id_list = submission[\"ego_id\"].drop_duplicates().values\n",
    "for ego_id in tqdm(ego_id_list):\n",
    "    submission_ego_net = submission[submission[\"ego_id\"] == ego_id]\n",
    "    test_ego_net = test[test[\"ego_id\"] == ego_id]\n",
    "    friendship = np.zeros_like(submission_ego_net[\"x1\"].values)\n",
    "    for i, (u, v) in enumerate(zip(submission_ego_net[\"u\"], submission_ego_net[\"v\"])):\n",
    "        \n",
    "        u_x1 = test_ego_net.loc[test_ego_net[\"u\"] == u, [\"v\", \"x1\", \"x2\", \"x3\"]].dropna()\n",
    "        v_x1 = test_ego_net.loc[test_ego_net[\"u\"] == v, [\"v\", \"x1\", \"x2\", \"x3\"]].dropna()\n",
    "        \n",
    "        common_friends = u_x1.merge(v_x1, on=\"v\")\n",
    "        \n",
    "        if common_friends.shape[0] > 0:\n",
    "            friendship[i] = np.mean(common_friends.drop(\"v\", axis=1).values)\n",
    "    submission.loc[submission[\"ego_id\"] == ego_id, \"x1\"] = friendship"
   ]
  },
  {
   "attachments": {},
   "cell_type": "markdown",
   "id": "6e9ceb0e",
   "metadata": {},
   "source": [
    "# Посчёт метрик"
   ]
  },
  {
   "cell_type": "code",
   "execution_count": 51,
   "id": "aa8c927f",
   "metadata": {},
   "outputs": [],
   "source": [
    "def RMSE(y_true, y_pred):\n",
    "    return mean_squared_error(y_true, y_pred, squared=False)"
   ]
  },
  {
   "cell_type": "code",
   "execution_count": 54,
   "id": "dade027d",
   "metadata": {},
   "outputs": [
    {
     "name": "stdout",
     "output_type": "stream",
     "text": [
      "Dummy model RMSE: 1.3604058861047796\n"
     ]
    }
   ],
   "source": [
    "print(\"Dummy model RMSE: {}\".format(RMSE(control[\"x1\"], submission_dummy[\"x1\"])))"
   ]
  },
  {
   "cell_type": "code",
   "execution_count": 63,
   "id": "32f3c1fc",
   "metadata": {},
   "outputs": [
    {
     "name": "stdout",
     "output_type": "stream",
     "text": [
      "Baseline model RMSE: 1.353040933001075\n"
     ]
    }
   ],
   "source": [
    "print(\"Baseline model RMSE: {}\".format(RMSE(control[\"x1\"], submission[\"x1\"])))"
   ]
  }
 ],
 "metadata": {
  "kernelspec": {
   "display_name": ".env",
   "language": "python",
   "name": "python3"
  },
  "language_info": {
   "codemirror_mode": {
    "name": "ipython",
    "version": 3
   },
   "file_extension": ".py",
   "mimetype": "text/x-python",
   "name": "python",
   "nbconvert_exporter": "python",
   "pygments_lexer": "ipython3",
   "version": "3.11.2"
  }
 },
 "nbformat": 4,
 "nbformat_minor": 5
}
