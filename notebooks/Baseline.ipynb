{
 "cells": [
  {
   "cell_type": "code",
   "execution_count": 1,
   "id": "038b0b50",
   "metadata": {},
   "outputs": [],
   "source": [
    "import pandas as pd\n",
    "import numpy as np\n",
    "\n",
    "from sklearn.metrics import mean_squared_error"
   ]
  },
  {
   "attachments": {},
   "cell_type": "markdown",
   "id": "35621d21",
   "metadata": {},
   "source": [
    "# Загрузка данных"
   ]
  },
  {
   "attachments": {},
   "cell_type": "markdown",
   "id": "e3fe0e8e",
   "metadata": {},
   "source": [
    "В бейзлайне реализована простейшая модель на эго-графе.\n",
    "\n",
    "Для каждой пары вершин u и v эго-графа попытаемся найти всех общих \"друзей\" w. Силой связи между вершинами u и v будем считать средную силу связи между ними и общими друзьями.\n",
    "\n",
    "Поскольку обучение для такой модели не требуется, будем пользоваться только тестовой выборкой."
   ]
  },
  {
   "cell_type": "code",
   "execution_count": 2,
   "id": "daef4ca8",
   "metadata": {},
   "outputs": [
    {
     "name": "stdout",
     "output_type": "stream",
     "text": [
      "CPU times: total: 11.7 s\n",
      "Wall time: 14.1 s\n"
     ]
    }
   ],
   "source": [
    "%%time\n",
    "\n",
    "test = pd.read_csv(\"train.csv\")\n",
    "submission = pd.read_csv(\"submission.csv\")\n"
   ]
  },
  {
   "cell_type": "code",
   "execution_count": 26,
   "id": "71e2d6b4",
   "metadata": {},
   "outputs": [
    {
     "data": {
      "text/html": [
       "<div>\n",
       "<style scoped>\n",
       "    .dataframe tbody tr th:only-of-type {\n",
       "        vertical-align: middle;\n",
       "    }\n",
       "\n",
       "    .dataframe tbody tr th {\n",
       "        vertical-align: top;\n",
       "    }\n",
       "\n",
       "    .dataframe thead th {\n",
       "        text-align: right;\n",
       "    }\n",
       "</style>\n",
       "<table border=\"1\" class=\"dataframe\">\n",
       "  <thead>\n",
       "    <tr style=\"text-align: right;\">\n",
       "      <th></th>\n",
       "      <th>ego_id</th>\n",
       "      <th>u</th>\n",
       "      <th>v</th>\n",
       "      <th>x1</th>\n",
       "    </tr>\n",
       "  </thead>\n",
       "  <tbody>\n",
       "    <tr>\n",
       "      <th>0</th>\n",
       "      <td>8</td>\n",
       "      <td>0</td>\n",
       "      <td>93</td>\n",
       "      <td>0.000000</td>\n",
       "    </tr>\n",
       "    <tr>\n",
       "      <th>1</th>\n",
       "      <td>8</td>\n",
       "      <td>0</td>\n",
       "      <td>143</td>\n",
       "      <td>0.000000</td>\n",
       "    </tr>\n",
       "    <tr>\n",
       "      <th>2</th>\n",
       "      <td>8</td>\n",
       "      <td>0</td>\n",
       "      <td>151</td>\n",
       "      <td>1.938045</td>\n",
       "    </tr>\n",
       "    <tr>\n",
       "      <th>3</th>\n",
       "      <td>8</td>\n",
       "      <td>1</td>\n",
       "      <td>24</td>\n",
       "      <td>0.048046</td>\n",
       "    </tr>\n",
       "    <tr>\n",
       "      <th>4</th>\n",
       "      <td>8</td>\n",
       "      <td>5</td>\n",
       "      <td>4</td>\n",
       "      <td>0.244380</td>\n",
       "    </tr>\n",
       "  </tbody>\n",
       "</table>\n",
       "</div>"
      ],
      "text/plain": [
       "   ego_id  u    v        x1\n",
       "0       8  0   93  0.000000\n",
       "1       8  0  143  0.000000\n",
       "2       8  0  151  1.938045\n",
       "3       8  1   24  0.048046\n",
       "4       8  5    4  0.244380"
      ]
     },
     "execution_count": 26,
     "metadata": {},
     "output_type": "execute_result"
    }
   ],
   "source": [
    "submission.head()"
   ]
  },
  {
   "attachments": {},
   "cell_type": "markdown",
   "id": "f647f5d9",
   "metadata": {},
   "source": [
    "Проверочные данные - недоступны участникам, используются для подсчёта метрики:"
   ]
  },
  {
   "cell_type": "code",
   "execution_count": 29,
   "id": "3ce2c652",
   "metadata": {},
   "outputs": [],
   "source": [
    "control = pd.read_csv(\"control.csv\")"
   ]
  },
  {
   "attachments": {},
   "cell_type": "markdown",
   "id": "c979f99f",
   "metadata": {},
   "source": [
    "Таблицы control и submission отличаются только последним столбцом x1. В таблице control в этом столбце содержатся истинные значения связей x1."
   ]
  },
  {
   "cell_type": "code",
   "execution_count": 29,
   "id": "b3144199",
   "metadata": {},
   "outputs": [
    {
     "ename": "NameError",
     "evalue": "name 'control' is not defined",
     "output_type": "error",
     "traceback": [
      "\u001b[1;31m---------------------------------------------------------------------------\u001b[0m",
      "\u001b[1;31mNameError\u001b[0m                                 Traceback (most recent call last)",
      "Cell \u001b[1;32mIn[29], line 1\u001b[0m\n\u001b[1;32m----> 1\u001b[0m control[[\u001b[39m\"\u001b[39m\u001b[39mego_id\u001b[39m\u001b[39m\"\u001b[39m, \u001b[39m\"\u001b[39m\u001b[39mu\u001b[39m\u001b[39m\"\u001b[39m, \u001b[39m\"\u001b[39m\u001b[39mv\u001b[39m\u001b[39m\"\u001b[39m]]\u001b[39m.\u001b[39mequals(submission[[\u001b[39m\"\u001b[39m\u001b[39mego_id\u001b[39m\u001b[39m\"\u001b[39m, \u001b[39m\"\u001b[39m\u001b[39mu\u001b[39m\u001b[39m\"\u001b[39m, \u001b[39m\"\u001b[39m\u001b[39mv\u001b[39m\u001b[39m\"\u001b[39m]])\n",
      "\u001b[1;31mNameError\u001b[0m: name 'control' is not defined"
     ]
    }
   ],
   "source": [
    "control[[\"ego_id\", \"u\", \"v\"]].equals(submission[[\"ego_id\", \"u\", \"v\"]])"
   ]
  },
  {
   "attachments": {},
   "cell_type": "markdown",
   "id": "4506a1ca",
   "metadata": {},
   "source": [
    "Таблица submission отсортирована по возрастанию ego_id, u, v:"
   ]
  },
  {
   "cell_type": "code",
   "execution_count": 9,
   "id": "4ee95b50",
   "metadata": {},
   "outputs": [
    {
     "data": {
      "text/plain": [
       "True"
      ]
     },
     "execution_count": 9,
     "metadata": {},
     "output_type": "execute_result"
    }
   ],
   "source": [
    "submission.equals(submission.sort_values([\"ego_id\", \"u\", \"v\"]))"
   ]
  },
  {
   "attachments": {},
   "cell_type": "markdown",
   "id": "834268e1",
   "metadata": {},
   "source": [
    "# Модель"
   ]
  },
  {
   "cell_type": "code",
   "execution_count": 57,
   "id": "57fdb909",
   "metadata": {},
   "outputs": [
    {
     "data": {
      "text/html": [
       "<div>\n",
       "<style scoped>\n",
       "    .dataframe tbody tr th:only-of-type {\n",
       "        vertical-align: middle;\n",
       "    }\n",
       "\n",
       "    .dataframe tbody tr th {\n",
       "        vertical-align: top;\n",
       "    }\n",
       "\n",
       "    .dataframe thead th {\n",
       "        text-align: right;\n",
       "    }\n",
       "</style>\n",
       "<table border=\"1\" class=\"dataframe\">\n",
       "  <thead>\n",
       "    <tr style=\"text-align: right;\">\n",
       "      <th></th>\n",
       "      <th>ego_id</th>\n",
       "      <th>u</th>\n",
       "      <th>v</th>\n",
       "      <th>t</th>\n",
       "      <th>x1</th>\n",
       "      <th>x2</th>\n",
       "      <th>x3</th>\n",
       "    </tr>\n",
       "  </thead>\n",
       "  <tbody>\n",
       "    <tr>\n",
       "      <th>ego_id</th>\n",
       "      <td>1.000000</td>\n",
       "      <td>0.001169</td>\n",
       "      <td>0.003036</td>\n",
       "      <td>-0.012366</td>\n",
       "      <td>0.000762</td>\n",
       "      <td>0.000752</td>\n",
       "      <td>0.003607</td>\n",
       "    </tr>\n",
       "    <tr>\n",
       "      <th>u</th>\n",
       "      <td>0.001169</td>\n",
       "      <td>1.000000</td>\n",
       "      <td>0.216931</td>\n",
       "      <td>-0.062228</td>\n",
       "      <td>0.011462</td>\n",
       "      <td>0.002271</td>\n",
       "      <td>-0.064409</td>\n",
       "    </tr>\n",
       "    <tr>\n",
       "      <th>v</th>\n",
       "      <td>0.003036</td>\n",
       "      <td>0.216931</td>\n",
       "      <td>1.000000</td>\n",
       "      <td>-0.088513</td>\n",
       "      <td>-0.020211</td>\n",
       "      <td>-0.022287</td>\n",
       "      <td>-0.021533</td>\n",
       "    </tr>\n",
       "    <tr>\n",
       "      <th>t</th>\n",
       "      <td>-0.012366</td>\n",
       "      <td>-0.062228</td>\n",
       "      <td>-0.088513</td>\n",
       "      <td>1.000000</td>\n",
       "      <td>-0.191695</td>\n",
       "      <td>-0.074891</td>\n",
       "      <td>-0.026805</td>\n",
       "    </tr>\n",
       "    <tr>\n",
       "      <th>x1</th>\n",
       "      <td>0.000762</td>\n",
       "      <td>0.011462</td>\n",
       "      <td>-0.020211</td>\n",
       "      <td>-0.191695</td>\n",
       "      <td>1.000000</td>\n",
       "      <td>0.681151</td>\n",
       "      <td>0.089145</td>\n",
       "    </tr>\n",
       "    <tr>\n",
       "      <th>x2</th>\n",
       "      <td>0.000752</td>\n",
       "      <td>0.002271</td>\n",
       "      <td>-0.022287</td>\n",
       "      <td>-0.074891</td>\n",
       "      <td>0.681151</td>\n",
       "      <td>1.000000</td>\n",
       "      <td>0.136583</td>\n",
       "    </tr>\n",
       "    <tr>\n",
       "      <th>x3</th>\n",
       "      <td>0.003607</td>\n",
       "      <td>-0.064409</td>\n",
       "      <td>-0.021533</td>\n",
       "      <td>-0.026805</td>\n",
       "      <td>0.089145</td>\n",
       "      <td>0.136583</td>\n",
       "      <td>1.000000</td>\n",
       "    </tr>\n",
       "  </tbody>\n",
       "</table>\n",
       "</div>"
      ],
      "text/plain": [
       "          ego_id         u         v         t        x1        x2        x3\n",
       "ego_id  1.000000  0.001169  0.003036 -0.012366  0.000762  0.000752  0.003607\n",
       "u       0.001169  1.000000  0.216931 -0.062228  0.011462  0.002271 -0.064409\n",
       "v       0.003036  0.216931  1.000000 -0.088513 -0.020211 -0.022287 -0.021533\n",
       "t      -0.012366 -0.062228 -0.088513  1.000000 -0.191695 -0.074891 -0.026805\n",
       "x1      0.000762  0.011462 -0.020211 -0.191695  1.000000  0.681151  0.089145\n",
       "x2      0.000752  0.002271 -0.022287 -0.074891  0.681151  1.000000  0.136583\n",
       "x3      0.003607 -0.064409 -0.021533 -0.026805  0.089145  0.136583  1.000000"
      ]
     },
     "execution_count": 57,
     "metadata": {},
     "output_type": "execute_result"
    }
   ],
   "source": [
    "corrmatrix = test.corr()\n",
    "corrmatrix"
   ]
  },
  {
   "attachments": {},
   "cell_type": "markdown",
   "id": "f539298f",
   "metadata": {},
   "source": [
    "Константное предсказание:"
   ]
  },
  {
   "cell_type": "code",
   "execution_count": 19,
   "id": "b9a2ab62",
   "metadata": {},
   "outputs": [
    {
     "name": "stdout",
     "output_type": "stream",
     "text": [
      "CPU times: total: 172 ms\n",
      "Wall time: 274 ms\n"
     ]
    }
   ],
   "source": [
    "%%time\n",
    "\n",
    "submission_dummy = submission.copy()\n",
    "submission_dummy[\"x1\"] = np.nanmean(test[\"x1\"].values)"
   ]
  },
  {
   "cell_type": "code",
   "execution_count": 21,
   "id": "e9238b4b",
   "metadata": {},
   "outputs": [
    {
     "name": "stderr",
     "output_type": "stream",
     "text": [
      "100%|██████████| 20586/20586 [39:35<00:00,  8.67it/s] "
     ]
    },
    {
     "name": "stdout",
     "output_type": "stream",
     "text": [
      "CPU times: total: 28min 36s\n",
      "Wall time: 39min 35s\n"
     ]
    },
    {
     "name": "stderr",
     "output_type": "stream",
     "text": [
      "\n"
     ]
    }
   ],
   "source": [
    "%%time\n",
    "\n",
    "from tqdm import tqdm\n",
    "\n",
    "\n",
    "ego_id_list = submission[\"ego_id\"].drop_duplicates().values\n",
    "for ego_id in tqdm(ego_id_list):\n",
    "    submission_ego_net = submission[submission[\"ego_id\"] == ego_id]\n",
    "    test_ego_net = test[test[\"ego_id\"] == ego_id]\n",
    "    friendship = np.zeros_like(submission_ego_net[\"x1\"].values)\n",
    "    for i, (u, v) in enumerate(zip(submission_ego_net[\"u\"], submission_ego_net[\"v\"])):\n",
    "        \n",
    "        u_x1 = test_ego_net.loc[test_ego_net[\"u\"] == u, [\"v\", \"x1\"]].dropna()\n",
    "        v_x1 = test_ego_net.loc[test_ego_net[\"u\"] == v, [\"v\", \"x1\"]].dropna()\n",
    "        \n",
    "        common_friends = u_x1.merge(v_x1, on=\"v\")\n",
    "        \n",
    "        if common_friends.shape[0] > 0:\n",
    "            friendship[i] = np.mean(common_friends.drop(\"v\", axis=1).values)\n",
    "            # friendship[i] = np.sqrt(np.mean(np.square(common_friends.drop(\"v\", axis=1).values)))\n",
    "    submission.loc[submission[\"ego_id\"] == ego_id, \"x1\"] = friendship"
   ]
  },
  {
   "cell_type": "code",
   "execution_count": 23,
   "id": "8b394f8a",
   "metadata": {},
   "outputs": [],
   "source": [
    "submission.to_csv('result.csv')"
   ]
  },
  {
   "attachments": {},
   "cell_type": "markdown",
   "id": "6e9ceb0e",
   "metadata": {},
   "source": [
    "# Посчёт метрик"
   ]
  },
  {
   "cell_type": "code",
   "execution_count": 51,
   "id": "aa8c927f",
   "metadata": {},
   "outputs": [],
   "source": [
    "def RMSE(y_true, y_pred):\n",
    "    return mean_squared_error(y_true, y_pred, squared=False)"
   ]
  },
  {
   "cell_type": "code",
   "execution_count": 54,
   "id": "dade027d",
   "metadata": {},
   "outputs": [
    {
     "name": "stdout",
     "output_type": "stream",
     "text": [
      "Dummy model RMSE: 1.3604058861047796\n"
     ]
    }
   ],
   "source": [
    "print(\"Dummy model RMSE: {}\".format(RMSE(control[\"x1\"], submission_dummy[\"x1\"])))"
   ]
  },
  {
   "cell_type": "code",
   "execution_count": 63,
   "id": "32f3c1fc",
   "metadata": {},
   "outputs": [
    {
     "name": "stdout",
     "output_type": "stream",
     "text": [
      "Baseline model RMSE: 1.353040933001075\n"
     ]
    }
   ],
   "source": [
    "print(\"Baseline model RMSE: {}\".format(RMSE(control[\"x1\"], submission[\"x1\"])))"
   ]
  }
 ],
 "metadata": {
  "kernelspec": {
   "display_name": ".env",
   "language": "python",
   "name": "python3"
  },
  "language_info": {
   "codemirror_mode": {
    "name": "ipython",
    "version": 3
   },
   "file_extension": ".py",
   "mimetype": "text/x-python",
   "name": "python",
   "nbconvert_exporter": "python",
   "pygments_lexer": "ipython3",
   "version": "3.10.11"
  }
 },
 "nbformat": 4,
 "nbformat_minor": 5
}
